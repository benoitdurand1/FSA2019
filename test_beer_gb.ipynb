{
 "cells": [
  {
   "cell_type": "code",
   "execution_count": 1,
   "metadata": {},
   "outputs": [],
   "source": [
    "import os\n",
    "import sys\n",
    "from watson_machine_learning_client import WatsonMachineLearningAPIClient"
   ]
  },
  {
   "cell_type": "code",
   "execution_count": 2,
   "metadata": {},
   "outputs": [],
   "source": [
    "cos_credentials = {\n",
    "    \"apikey\": \"XXXX-XXXX-XXXX-XXXX\",\n",
    "    \"cos_hmac_keys\": {\n",
    "        \"access_key_id\": \"XXXX-XXXX-XXXX-XXXX\",\n",
    "        \"secret_access_key\": \"XXXX-XXXX-XXXX-XXXX\"\n",
    "    },\n",
    "    \"endpoints\": \"https://control.cloud-object-storage.cloud.ibm.com/v2/endpoints\",\n",
    "    \"iam_apikey_description\": \"XXXX-XXXX-XXXX-XXXX\",\n",
    "    \"iam_apikey_name\": \"XXXX-XXXX-XXXX-XXXX\",\n",
    "    \"iam_role_crn\": \"XXXX-XXXX-XXXX-XXXX\",\n",
    "    \"iam_serviceid_crn\": \"XXXX-XXXX-XXXX-XXXX\",\n",
    "    \"resource_instance_id\": \"XXXX-XXXX-XXXX-XXXX\"\n",
    "}\n",
    "\n",
    "service_endpoint = \"https://s3.private.eu-gb.cloud-object-storage.appdomain.cloud\"\n",
    "\n",
    "buckets = {\n",
    "    \"training\": \"bucket-training-gb-po\",\n",
    "    \"results\": \"bucket-results-gb-po\"\n",
    "}\n",
    "\n",
    "wml_credentials = {\n",
    "    \"instance_id\": \"XXXX-XXXX-XXXX-XXXX\",\n",
    "    \"password\": \"XXXX-XXXX-XXXX-XXXX\",\n",
    "    \"url\": \"https://eu-gb.ml.cloud.ibm.com\",\n",
    "    \"username\": \"XXXX-XXXX-XXXX-XXXX\"\n",
    "}"
   ]
  },
  {
   "cell_type": "code",
   "execution_count": 3,
   "metadata": {},
   "outputs": [],
   "source": [
    "client = WatsonMachineLearningAPIClient(wml_credentials)"
   ]
  },
  {
   "cell_type": "code",
   "execution_count": 4,
   "metadata": {},
   "outputs": [],
   "source": [
    "execution_command = \"echo ${DATA_DIR}; echo ${RESULT_DIR}; export PYTHONPATH=$PYTHONPATH:${DATA_DIR}/models/:${DATA_DIR}/models/research/:${DATA_DIR}/models/research/slim/; python3 export_inference_graph.py --input_type=image_tensor --pipeline_config_path=${DATA_DIR}/models/research/object_detection/training/faster_rcnn_inception_v2_coco.config --trained_checkpoint_prefix=${DATA_DIR}/models/research/object_detection/training/model.ckpt-17818 --output_directory=${RESULT_DIR}; python3 object_detection_image.py\""
   ]
  },
  {
   "cell_type": "code",
   "execution_count": 5,
   "metadata": {},
   "outputs": [],
   "source": [
    "model_definition_metadata = {\n",
    "    client.repository.DefinitionMetaNames.NAME: \"repository-casino-2\",\n",
    "    client.repository.DefinitionMetaNames.DESCRIPTION: \"Casino model\",\n",
    "    client.repository.DefinitionMetaNames.AUTHOR_NAME: \"Mathis OUDIN\",\n",
    "    client.repository.DefinitionMetaNames.FRAMEWORK_NAME: \"tensorflow\",\n",
    "    client.repository.DefinitionMetaNames.FRAMEWORK_VERSION: \"1.10\",\n",
    "    client.repository.DefinitionMetaNames.RUNTIME_NAME: \"python\",\n",
    "    client.repository.DefinitionMetaNames.RUNTIME_VERSION: \"3.5\",\n",
    "    client.repository.DefinitionMetaNames.EXECUTION_COMMAND: execution_command\n",
    "}"
   ]
  },
  {
   "cell_type": "code",
   "execution_count": 6,
   "metadata": {},
   "outputs": [
    {
     "name": "stdout",
     "output_type": "stream",
     "text": [
      "The definition_uid is: da2b4b87-c86e-4562-8c14-ab772a46f98d\n"
     ]
    }
   ],
   "source": [
    "definition_details = client.repository.store_definition(\"test.zip\", model_definition_metadata)\n",
    "definition_uid = client.repository.get_definition_uid(definition_details)\n",
    "print(\"The definition_uid is: {}\".format(definition_uid))"
   ]
  },
  {
   "cell_type": "code",
   "execution_count": 7,
   "metadata": {},
   "outputs": [],
   "source": [
    "training_configuration_metadata = {\n",
    "    client.training.ConfigurationMetaNames.NAME: \"training-casino-2\", \n",
    "    client.training.ConfigurationMetaNames.AUTHOR_NAME: \"Mathis OUDIN\",              \n",
    "    client.training.ConfigurationMetaNames.DESCRIPTION: \"Casino beer model\",\n",
    "    client.training.ConfigurationMetaNames.COMPUTE_CONFIGURATION: {\"name\": \"k80\"},\n",
    "    client.training.ConfigurationMetaNames.TRAINING_DATA_REFERENCE: {\n",
    "        \"connection\": {\n",
    "            \"endpoint_url\": service_endpoint,\n",
    "            \"access_key_id\": cos_credentials['cos_hmac_keys']['access_key_id'],\n",
    "            \"secret_access_key\": cos_credentials['cos_hmac_keys']['secret_access_key']\n",
    "        },\n",
    "        \"source\": {\n",
    "            \"bucket\": buckets['training'],\n",
    "        },\n",
    "        \"type\": \"s3\"\n",
    "    },\n",
    "    client.training.ConfigurationMetaNames.TRAINING_RESULTS_REFERENCE: {\n",
    "        \"connection\": {\n",
    "            \"endpoint_url\": service_endpoint,\n",
    "            \"access_key_id\": cos_credentials['cos_hmac_keys']['access_key_id'],\n",
    "            \"secret_access_key\": cos_credentials['cos_hmac_keys']['secret_access_key']\n",
    "        },\n",
    "        \"target\": {\n",
    "            \"bucket\": buckets['results'],\n",
    "        },\n",
    "        \"type\": \"s3\"\n",
    "    },\n",
    "}"
   ]
  },
  {
   "cell_type": "code",
   "execution_count": 8,
   "metadata": {},
   "outputs": [
    {
     "name": "stdout",
     "output_type": "stream",
     "text": [
      "The training_run_guid_async is: model-oqjsrjex\n"
     ]
    }
   ],
   "source": [
    "training_run_details = client.training.run(definition_uid, training_configuration_metadata)\n",
    "training_run_guid_async = client.training.get_run_uid(training_run_details)\n",
    "print(\"The training_run_guid_async is: {}\".format(training_run_guid_async))"
   ]
  },
  {
   "cell_type": "code",
   "execution_count": 9,
   "metadata": {
    "scrolled": false
   },
   "outputs": [
    {
     "name": "stdout",
     "output_type": "stream",
     "text": [
      "\n",
      "\n",
      "####################################################\n",
      "\n",
      "Log monitor started for training run: model-oqjsrjex\n",
      "\n",
      "####################################################\n",
      "\n",
      "\n",
      "training-Wgt3huXig: \n",
      "training-Wgt3huXig: \n",
      "training-Wgt3huXig: \n",
      "training-Wgt3huXig: \n",
      "training-Wgt3huXig: \n",
      "training-Wgt3huXig: \n",
      "training-Wgt3huXig: \n",
      "training-Wgt3huXig: \n",
      "training-Wgt3huXig: \n",
      "training-Wgt3huXig: \n",
      "training-Wgt3huXig: \n",
      "training-Wgt3huXig: \n",
      "training-Wgt3huXig: \n",
      "training-Wgt3huXig: \n",
      "training-Wgt3huXig: \n",
      "training-Wgt3huXig: \n",
      "training-Wgt3huXig: \n",
      "\n",
      "\n",
      "-----------------\n",
      "Log monitor done.\n",
      "-----------------\n",
      "\n",
      "\n"
     ]
    }
   ],
   "source": [
    "client.training.monitor_logs(training_run_guid_async)"
   ]
  },
  {
   "cell_type": "code",
   "execution_count": null,
   "metadata": {},
   "outputs": [],
   "source": [
    "saved_model_details = client.repository.store_model(training_run_guid_async, {\"name\": \"My object detection model\"})\n",
    "print(client.repository.get_model_url(saved_model_details))\n",
    "model_uid = client.repository.get_model_uid(saved_model_details)\n",
    "print(\"Saved model uid: \" + model_uid)"
   ]
  },
  {
   "cell_type": "code",
   "execution_count": null,
   "metadata": {},
   "outputs": [],
   "source": [
    "deployment_details = client.deployments.create(model_uid, \"My object detection deployment\")\n",
    "scoring_url = client.deployments.get_scoring_url(deployment_details)\n",
    "print(scoring_url)"
   ]
  },
  {
   "cell_type": "code",
   "execution_count": null,
   "metadata": {},
   "outputs": [],
   "source": [
    "# client.training.delete(training_run_guid_async)\n",
    "# client.repository.delete(definition_uid)\n",
    "# client.deployments.delete(deployments_uid)"
   ]
  },
  {
   "cell_type": "code",
   "execution_count": null,
   "metadata": {},
   "outputs": [],
   "source": []
  }
 ],
 "metadata": {
  "kernelspec": {
   "display_name": "Python 3",
   "language": "python",
   "name": "python3"
  },
  "language_info": {
   "codemirror_mode": {
    "name": "ipython",
    "version": 3
   },
   "file_extension": ".py",
   "mimetype": "text/x-python",
   "name": "python",
   "nbconvert_exporter": "python",
   "pygments_lexer": "ipython3",
   "version": "3.6.7"
  }
 },
 "nbformat": 4,
 "nbformat_minor": 2
}
